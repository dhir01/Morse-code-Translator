{
 "cells": [
  {
   "cell_type": "code",
   "execution_count": 14,
   "id": "c09ce9b5",
   "metadata": {},
   "outputs": [],
   "source": [
    "from tkinter import *\n",
    "from tkinter import messagebox\n",
    "from PIL import ImageTk,Image\n",
    "from playsound import playsound\n",
    "import time\n",
    "import pyttsx3\n",
    "root = Tk() \n",
    "var1 = StringVar(root)\n",
    "var2 = StringVar(root)\n",
    "var1.set(\"From language\")\n",
    "var2.set(\"To language\")\n",
    "MORSE_CODE_DICT = { 'A':'.-', 'B':'-...',\n",
    "                    'C':'-.-.', 'D':'-..', 'E':'.',\n",
    "                    'F':'..-.', 'G':'--.', 'H':'....',\n",
    "                    'I':'..', 'J':'.---', 'K':'-.-',\n",
    "                    'L':'.-..', 'M':'--', 'N':'-.',\n",
    "                    'O':'---', 'P':'.--.', 'Q':'--.-',\n",
    "                    'R':'.-.', 'S':'...', 'T':'-',\n",
    "                    'U':'..-', 'V':'...-', 'W':'.--',\n",
    "                    'X':'-..-', 'Y':'-.--', 'Z':'--..',\n",
    "                    '1':'.----', '2':'..---', '3':'...--',\n",
    "                    '4':'....-', '5':'.....', '6':'-....',\n",
    "                    '7':'--...', '8':'---..', '9':'----.',\n",
    "                    '0':'-----', ', ':'--..--', '.':'.-.-.-',\n",
    "                    '?':'..--..', '/':'-..-.', '-':'-....-',\n",
    "                    '(':'-.--.', ')':'-.--.-'}\n",
    "def clear():\n",
    "    lang1_area.delete(1.0, END)\n",
    "    lang2_area.delete(1.0, END)\n",
    "    \n",
    "def conversion():\n",
    "    message = lang1_area.get(\"1.0\", \"end\")[:-1]\n",
    "    text_message=message.upper()\n",
    "    if var1.get() == var2.get() :\n",
    "        messagebox.showerror('Invalid Choice',\"We can not select similar language\")\n",
    "        return\n",
    "    elif var1.get() == \"English\" and var2.get() == \"Morse\" :\n",
    "        result = encryption(text_message) \n",
    "    elif var1.get() == \"Morse\" and var2.get() == \"English\" :\n",
    "        result = decryption(text_message) \n",
    "    else :\n",
    "        messagebox.showerror('Inappropriate Choice',\"please choose appropriate language code..\")\n",
    "        return\n",
    "        \n",
    "    lang2_area.insert('end -1 chars', result)\n",
    "      \n",
    "def encryption(text_message):\n",
    "    encrypted_text = ''\n",
    "    for letter in text_message:\n",
    "        if letter != ' ':\n",
    "            encrypted_text =encrypted_text + MORSE_CODE_DICT[letter] + ' '\n",
    "        else:\n",
    "            encrypted_text =encrypted_text + ' '\n",
    "    for m in encrypted_text:\n",
    "        if m==\".\":\n",
    "            playsound(r\"C:\\Users\\HP\\Downloads\\rrr.wav\")\n",
    "        elif m==\"-\":\n",
    "            playsound(r'C:\\Users\\HP\\Downloads\\beep.wav')\n",
    "        else:\n",
    "            time.sleep(0.5)\n",
    "    return encrypted_text\n",
    "\n",
    "def decryption(text_message):   \n",
    "    text_message += ' '\n",
    "    key = list(MORSE_CODE_DICT.keys())\n",
    "    val = list(MORSE_CODE_DICT.values())\n",
    "    decrypted_text = ''\n",
    "    normal_text = ''\n",
    "    for letter in text_message:\n",
    "        if (letter != ' '):\n",
    "            space = 0\n",
    "            normal_text += letter\n",
    "        else:\n",
    "            space = space + 1\n",
    "            if space == 2 :\n",
    "                decrypted_text += ' '\n",
    "            else:\n",
    "                decrypted_text += key[val.index(normal_text)]\n",
    "                normal_text = ''\n",
    "    sound=pyttsx3.init()\n",
    "    sound.say(decrypted_text)\n",
    "    sound.runAndWait()\n",
    "    return decrypted_text\n",
    "  \n",
    "if __name__ == \"__main__\" :\n",
    "    root.configure(background = 'grey') \n",
    "    root.geometry(\"580x480\") \n",
    "    root.title(\"MORSE CODE GENERATOR\")\n",
    "    headlabel = Label(root, text = 'MORSE  CODE  TRANSLATOR', fg = 'black', bg = \"cyan\",font='lucida 20 bold') \n",
    "    \n",
    "    label1 = Label(root,text=\"One Language\",fg = 'black', bg = 'light grey',borderwidth=10) \n",
    "    label2 = Label(root, text = \"Decoded Language \",fg = 'black', bg = 'light grey',borderwidth=10)\n",
    "\n",
    "    headlabel.grid(row = 0, column = 1) \n",
    "    label1.grid(row = 2, column = 0) \n",
    "    label2.grid(row = 6, column = 0)\n",
    "       \n",
    "    lang1_area = Text(root, height = 5, width = 35,font = \"lucida 13\")\n",
    "    lang2_area = Text(root, height = 5, width = 35,font = \"lucida 13\") \n",
    "    lang1_area.grid(row = 2, column = 1, padx = 10) \n",
    "    lang2_area.grid(row = 6, column = 1, padx = 10)\n",
    "    languageCode_list = [\"English\", \"Morse\"]\n",
    "    FromLanguage_option = OptionMenu(root, var1, *languageCode_list)\n",
    "    ToLanguage_option = OptionMenu(root, var2, *languageCode_list)\n",
    "    \n",
    "    FromLanguage_option.grid(row = 3, column = 1, ipadx = 10)\n",
    "    ToLanguage_option.grid(row = 4, column = 1, ipadx = 10)\n",
    "    photo=PhotoImage(file=r\"C:\\Users\\HP\\OneDrive\\Desktop\\New folder\\changee.png\")\n",
    "    button1 = Button(root,image= photo , bg = 'light grey',borderwidth=10, fg = \"black\",activebackground='blue',command = conversion)  \n",
    "    button1.grid(row = 5, column = 1)\n",
    "    pic=PhotoImage(file=r\"C:\\Users\\HP\\OneDrive\\Desktop\\New folder\\reset.png\")\n",
    "    button2 = Button(root,image= pic, bg = \"light grey\",borderwidth=10, fg = \"black\",activebackground='blue', command = clear)  \n",
    "    button2.grid(row = 7, column = 1)\n",
    "    root.mainloop() "
   ]
  },
  {
   "cell_type": "code",
   "execution_count": 2,
   "id": "64996b98",
   "metadata": {},
   "outputs": [],
   "source": [
    "from tkinter import*\n",
    "root=Tk()\n",
    "#create canvas as a child to root window\n",
    "c=Canvas(bg='white', height=700,width=1200)\n",
    "\n",
    "file1=PhotoImage(file=r\"C:\\Users\\HP\\OneDrive\\Desktop\\New folder\\changee.png\")\n",
    "\n",
    "c.create_image(500, 200, anchor=CENTER, image=file1)\n",
    "c.pack(expand = YES, fill = BOTH)\n",
    "c.pack()\n",
    "root.mainloop()"
   ]
  },
  {
   "cell_type": "code",
   "execution_count": 3,
   "id": "aeae7fd4",
   "metadata": {},
   "outputs": [],
   "source": [
    "import subprocess"
   ]
  },
  {
   "cell_type": "code",
   "execution_count": 4,
   "id": "a2716b6e",
   "metadata": {},
   "outputs": [],
   "source": [
    "import time"
   ]
  },
  {
   "cell_type": "code",
   "execution_count": 2,
   "id": "c88c3b6f",
   "metadata": {},
   "outputs": [
    {
     "ename": "ModuleNotFoundError",
     "evalue": "No module named 'pydub'",
     "output_type": "error",
     "traceback": [
      "\u001b[1;31m---------------------------------------------------------------------------\u001b[0m",
      "\u001b[1;31mModuleNotFoundError\u001b[0m                       Traceback (most recent call last)",
      "\u001b[1;32m<ipython-input-2-4f2f1c796d96>\u001b[0m in \u001b[0;36m<module>\u001b[1;34m\u001b[0m\n\u001b[1;32m----> 1\u001b[1;33m \u001b[1;32mfrom\u001b[0m \u001b[0mpydub\u001b[0m \u001b[1;32mimport\u001b[0m \u001b[0mAudioSegment\u001b[0m\u001b[1;33m\u001b[0m\u001b[1;33m\u001b[0m\u001b[0m\n\u001b[0m",
      "\u001b[1;31mModuleNotFoundError\u001b[0m: No module named 'pydub'"
     ]
    }
   ],
   "source": [
    "from pydub import AudioSegment"
   ]
  },
  {
   "cell_type": "code",
   "execution_count": 5,
   "id": "919e9bad",
   "metadata": {},
   "outputs": [
    {
     "name": "stdout",
     "output_type": "stream",
     "text": [
      "Collecting playsound\n",
      "  Downloading playsound-1.3.0.tar.gz (7.7 kB)\n",
      "Building wheels for collected packages: playsound\n",
      "  Building wheel for playsound (setup.py): started\n",
      "  Building wheel for playsound (setup.py): finished with status 'done'\n",
      "  Created wheel for playsound: filename=playsound-1.3.0-py3-none-any.whl size=7026 sha256=0930cf2de330a297a5b32ee4d8c3d705bb06454a7765f7a2c7d032c6b8b8b6b8\n",
      "  Stored in directory: c:\\users\\hp\\appdata\\local\\pip\\cache\\wheels\\73\\cd\\cf\\9750b618d54bd81c20e4c34fb24a423a5b095920367cdb3f71\n",
      "Successfully built playsound\n",
      "Installing collected packages: playsound\n",
      "Successfully installed playsound-1.3.0\n",
      "Note: you may need to restart the kernel to use updated packages.\n"
     ]
    }
   ],
   "source": [
    "pip install playsound"
   ]
  },
  {
   "cell_type": "code",
   "execution_count": 4,
   "id": "0a81e077",
   "metadata": {},
   "outputs": [
    {
     "ename": "ModuleNotFoundError",
     "evalue": "No module named 'playsound'",
     "output_type": "error",
     "traceback": [
      "\u001b[1;31m---------------------------------------------------------------------------\u001b[0m",
      "\u001b[1;31mModuleNotFoundError\u001b[0m                       Traceback (most recent call last)",
      "\u001b[1;32m<ipython-input-4-a257e674c698>\u001b[0m in \u001b[0;36m<module>\u001b[1;34m\u001b[0m\n\u001b[1;32m----> 1\u001b[1;33m \u001b[1;32mfrom\u001b[0m \u001b[0mplaysound\u001b[0m \u001b[1;32mimport\u001b[0m \u001b[0mplaysound\u001b[0m\u001b[1;33m\u001b[0m\u001b[1;33m\u001b[0m\u001b[0m\n\u001b[0m",
      "\u001b[1;31mModuleNotFoundError\u001b[0m: No module named 'playsound'"
     ]
    }
   ],
   "source": [
    "from playsound import playsound"
   ]
  },
  {
   "cell_type": "code",
   "execution_count": 15,
   "id": "909b801d",
   "metadata": {},
   "outputs": [
    {
     "name": "stdout",
     "output_type": "stream",
     "text": [
      "^C\n",
      "Note: you may need to restart the kernel to use updated packages.\n"
     ]
    }
   ],
   "source": [
    "pip install pyttsx3"
   ]
  },
  {
   "cell_type": "code",
   "execution_count": 16,
   "id": "fd691931",
   "metadata": {},
   "outputs": [
    {
     "name": "stdout",
     "output_type": "stream",
     "text": [
      "Collecting pyttsx3\n",
      "  Downloading pyttsx3-2.90-py3-none-any.whl (39 kB)\n",
      "Collecting pypiwin32\n",
      "  Downloading pypiwin32-223-py3-none-any.whl (1.7 kB)\n",
      "Requirement already satisfied: pywin32 in c:\\programdata\\anaconda3\\lib\\site-packages (from pyttsx3) (227)\n",
      "Requirement already satisfied: comtypes in c:\\programdata\\anaconda3\\lib\\site-packages (from pyttsx3) (1.1.9)\n",
      "Installing collected packages: pypiwin32, pyttsx3\n",
      "Successfully installed pypiwin32-223 pyttsx3-2.90\n",
      "^C\n",
      "Note: you may need to restart the kernel to use updated packages.\n"
     ]
    }
   ],
   "source": [
    "pip install pyttsx3"
   ]
  },
  {
   "cell_type": "code",
   "execution_count": 8,
   "id": "e486d1a7",
   "metadata": {},
   "outputs": [],
   "source": [
    "import pyttsx3\n",
    "engine=pyttsx3.init()\n",
    "engine.say(\"5,4\")\n",
    "engine.say(\"shutdown sequence initiated,shutting down\")\n",
    "engine.runAndWait()"
   ]
  },
  {
   "cell_type": "code",
   "execution_count": null,
   "id": "4cbc761e",
   "metadata": {},
   "outputs": [],
   "source": [
    "engine=pyttsx3.init()\n",
    "engine.say(decrypted_text)\n",
    "engine.runAndWait() "
   ]
  }
 ],
 "metadata": {
  "kernelspec": {
   "display_name": "Python 3",
   "language": "python",
   "name": "python3"
  },
  "language_info": {
   "codemirror_mode": {
    "name": "ipython",
    "version": 3
   },
   "file_extension": ".py",
   "mimetype": "text/x-python",
   "name": "python",
   "nbconvert_exporter": "python",
   "pygments_lexer": "ipython3",
   "version": "3.8.8"
  }
 },
 "nbformat": 4,
 "nbformat_minor": 5
}
